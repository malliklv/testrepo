{
 "cells": [
  {
   "cell_type": "markdown",
   "id": "267833ce-ffe3-43cb-8324-ae559a7c47c6",
   "metadata": {},
   "source": [
    "<h1>Data Science Tools and Ecosystem</h1>"
   ]
  },
  {
   "cell_type": "markdown",
   "id": "5a6c7f9a-989f-44b3-90b2-9e970308063c",
   "metadata": {},
   "source": [
    "In this notebook, Data Science Tools and Ecosystem are summarized."
   ]
  },
  {
   "cell_type": "markdown",
   "id": "40cb5f22-7c4c-44f1-a7ce-5622906cee8b",
   "metadata": {},
   "source": [
    "**Objectives:**\n",
    "This page consists of Data science tools and eco system covering how to use Mark down and code cells\n",
    "<ul>\n",
    "    <li>Unlisted items \n",
    "    <li>Listed items\n",
    "    <li>Headers\n",
    "    <li>Tables\n",
    "    <li>Code cells with Arithmetic operations\n",
    "</ul>"
   ]
  },
  {
   "cell_type": "markdown",
   "id": "06ed353d-b90f-4e76-ab1b-a49244eec97f",
   "metadata": {
    "tags": []
   },
   "source": [
    "Some of the popular languages that Data Scientists use are:\n",
    "<Ol>\n",
    "<li>Python\n",
    "<li>R\n",
    "<li>Java\n",
    "</ol>"
   ]
  },
  {
   "cell_type": "markdown",
   "id": "1cd75e99-fcb9-483f-ae5e-a22da488ec22",
   "metadata": {},
   "source": [
    "Some of the commonly used libraries used by Data Scientists include:\n",
    "<ol>\n",
    "<li>Pandas\n",
    "<li>NumPy\n",
    "<li>SciPy\n",
    "<li>Matplotlib\n",
    "</ol>"
   ]
  },
  {
   "cell_type": "markdown",
   "id": "d71144a1-e387-43cc-bfda-81c7fca60f50",
   "metadata": {},
   "source": [
    "|Data Science Tools|\n",
    "|------------------|\n",
    "|Apache Spark|\n",
    "|Apache Flink|\n",
    "|Tensorflow.Js|"
   ]
  },
  {
   "cell_type": "markdown",
   "id": "af1ea2ae-08dd-483a-be06-6cf190816524",
   "metadata": {
    "tags": []
   },
   "source": [
    "<h3>Below are a few examples of evaluating arithmetic expressions in Python <h3>"
   ]
  },
  {
   "cell_type": "code",
   "execution_count": 5,
   "id": "918435c5-f813-4db5-b3f9-8f260da31681",
   "metadata": {
    "tags": []
   },
   "outputs": [
    {
     "data": {
      "text/plain": [
       "17"
      ]
     },
     "execution_count": 5,
     "metadata": {},
     "output_type": "execute_result"
    }
   ],
   "source": [
    "##This a simple arithmetic expression to mutiply then add integers.\n",
    "(3*4)+5"
   ]
  },
  {
   "cell_type": "code",
   "execution_count": 6,
   "id": "7604a896-d0d6-44c9-a555-2ad78657c3af",
   "metadata": {
    "tags": []
   },
   "outputs": [
    {
     "data": {
      "text/plain": [
       "3.3333333333333335"
      ]
     },
     "execution_count": 6,
     "metadata": {},
     "output_type": "execute_result"
    }
   ],
   "source": [
    "#This will convert 200 minutes to hours by diving by 60.\n",
    "200/60"
   ]
  },
  {
   "cell_type": "markdown",
   "id": "46e7ca5f-efbd-4008-91da-46628e718555",
   "metadata": {
    "tags": []
   },
   "source": [
    "<H2>Author</H2>\n",
    "Lagisetty Venkata Mallikarjuna"
   ]
  },
  {
   "cell_type": "code",
   "execution_count": null,
   "id": "395095e4-2096-4bb4-a403-2e713a149c0e",
   "metadata": {},
   "outputs": [],
   "source": []
  }
 ],
 "metadata": {
  "kernelspec": {
   "display_name": "Python",
   "language": "python",
   "name": "conda-env-python-py"
  },
  "language_info": {
   "codemirror_mode": {
    "name": "ipython",
    "version": 3
   },
   "file_extension": ".py",
   "mimetype": "text/x-python",
   "name": "python",
   "nbconvert_exporter": "python",
   "pygments_lexer": "ipython3",
   "version": "3.7.12"
  }
 },
 "nbformat": 4,
 "nbformat_minor": 5
}
